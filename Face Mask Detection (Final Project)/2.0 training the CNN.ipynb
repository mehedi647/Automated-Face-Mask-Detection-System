{
 "cells": [
  {
   "cell_type": "code",
   "execution_count": 1,
   "metadata": {},
   "outputs": [],
   "source": [
    "import numpy as np\n",
    "\n",
    "data=np.load('data.npy')\n",
    "target=np.load('target.npy')\n",
    "\n",
    "#loading the save numpy arrays in the previous code"
   ]
  },
  {
   "cell_type": "code",
   "execution_count": 2,
   "metadata": {},
   "outputs": [],
   "source": [
    "from keras.models import Sequential\n",
    "from keras.layers import Dense,Activation,Flatten,Dropout\n",
    "from keras.layers import Conv2D,MaxPooling2D\n",
    "from keras.callbacks import ModelCheckpoint\n",
    "\n",
    "model=Sequential()\n",
    "\n",
    "model.add(Conv2D(200,(3,3),input_shape=data.shape[1:]))\n",
    "model.add(Activation('relu'))\n",
    "model.add(MaxPooling2D(pool_size=(2,2)))\n",
    "#The first CNN layer followed by Relu and MaxPooling layers\n",
    "\n",
    "model.add(Conv2D(100,(3,3)))\n",
    "model.add(Activation('relu'))\n",
    "model.add(MaxPooling2D(pool_size=(2,2)))\n",
    "#The second convolution layer followed by Relu and MaxPooling layers\n",
    "\n",
    "model.add(Flatten())\n",
    "model.add(Dropout(0.5))\n",
    "#Flatten layer to stack the output convolutions from second convolution layer\n",
    "model.add(Dense(50,activation='relu'))\n",
    "#Dense layer of 64 neurons\n",
    "model.add(Dense(2,activation='softmax'))\n",
    "#The Final layer with two outputs for two categories\n",
    "\n",
    "model.compile(loss='categorical_crossentropy',optimizer='adam',metrics=['accuracy'])"
   ]
  },
  {
   "cell_type": "code",
   "execution_count": 3,
   "metadata": {},
   "outputs": [
    {
     "name": "stdout",
     "output_type": "stream",
     "text": [
      "Model: \"sequential\"\n",
      "_________________________________________________________________\n",
      "Layer (type)                 Output Shape              Param #   \n",
      "=================================================================\n",
      "conv2d (Conv2D)              (None, 98, 98, 200)       2000      \n",
      "_________________________________________________________________\n",
      "activation (Activation)      (None, 98, 98, 200)       0         \n",
      "_________________________________________________________________\n",
      "max_pooling2d (MaxPooling2D) (None, 49, 49, 200)       0         \n",
      "_________________________________________________________________\n",
      "conv2d_1 (Conv2D)            (None, 47, 47, 100)       180100    \n",
      "_________________________________________________________________\n",
      "activation_1 (Activation)    (None, 47, 47, 100)       0         \n",
      "_________________________________________________________________\n",
      "max_pooling2d_1 (MaxPooling2 (None, 23, 23, 100)       0         \n",
      "_________________________________________________________________\n",
      "flatten (Flatten)            (None, 52900)             0         \n",
      "_________________________________________________________________\n",
      "dropout (Dropout)            (None, 52900)             0         \n",
      "_________________________________________________________________\n",
      "dense (Dense)                (None, 50)                2645050   \n",
      "_________________________________________________________________\n",
      "dense_1 (Dense)              (None, 2)                 102       \n",
      "=================================================================\n",
      "Total params: 2,827,252\n",
      "Trainable params: 2,827,252\n",
      "Non-trainable params: 0\n",
      "_________________________________________________________________\n"
     ]
    }
   ],
   "source": [
    "model.summary()"
   ]
  },
  {
   "cell_type": "code",
   "execution_count": 4,
   "metadata": {},
   "outputs": [],
   "source": [
    "#splitting datas into test and train\n",
    "from sklearn.model_selection import train_test_split\n",
    "\n",
    "train_data,test_data,train_target,test_target=train_test_split(data,target,test_size=0.1)"
   ]
  },
  {
   "cell_type": "code",
   "execution_count": 5,
   "metadata": {},
   "outputs": [
    {
     "name": "stdout",
     "output_type": "stream",
     "text": [
      "Epoch 1/20\n",
      " 2/31 [>.............................] - ETA: 0s - loss: 2.0099 - accuracy: 0.5469WARNING:tensorflow:Callbacks method `on_train_batch_end` is slow compared to the batch time (batch time: 0.0230s vs `on_train_batch_end` time: 0.0350s). Check your callbacks.\n",
      "31/31 [==============================] - ETA: 0s - loss: 0.7724 - accuracy: 0.5303 ETA: 1s - loss: 0.9340 - accuracy - ETA: 0s - loss: 0.8666 - accuracy: 0.54 - ETA: 0s - lWARNING:tensorflow:From C:\\Users\\Emon\\anaconda3\\envs\\tfgpu\\lib\\site-packages\\tensorflow\\python\\training\\tracking\\tracking.py:111: Model.state_updates (from tensorflow.python.keras.engine.training) is deprecated and will be removed in a future version.\n",
      "Instructions for updating:\n",
      "This property should not be used in TensorFlow 2.0, as updates are applied automatically.\n",
      "WARNING:tensorflow:From C:\\Users\\Emon\\anaconda3\\envs\\tfgpu\\lib\\site-packages\\tensorflow\\python\\training\\tracking\\tracking.py:111: Layer.updates (from tensorflow.python.keras.engine.base_layer) is deprecated and will be removed in a future version.\n",
      "Instructions for updating:\n",
      "This property should not be used in TensorFlow 2.0, as updates are applied automatically.\n",
      "INFO:tensorflow:Assets written to: model-001.model\\assets\n",
      "31/31 [==============================] - 5s 157ms/step - loss: 0.7724 - accuracy: 0.5303 - val_loss: 0.6919 - val_accuracy: 0.5040\n",
      "Epoch 2/20\n",
      "31/31 [==============================] - ETA: 0s - loss: 0.6027 - accuracy: 0.6657INFO:tensorflow:Assets written to: model-002.model\\assets\n",
      "31/31 [==============================] - 4s 129ms/step - loss: 0.6027 - accuracy: 0.6657 - val_loss: 0.4483 - val_accuracy: 0.8468\n",
      "Epoch 3/20\n",
      "31/31 [==============================] - ETA: 0s - loss: 0.4059 - accuracy: 0.8253 ETA: 0s - loss: 0.422INFO:tensorflow:Assets written to: model-003.model\\assets\n",
      "31/31 [==============================] - 4s 128ms/step - loss: 0.4059 - accuracy: 0.8253 - val_loss: 0.3254 - val_accuracy: 0.8750\n",
      "Epoch 4/20\n",
      "31/31 [==============================] - ETA: 0s - loss: 0.3322 - accuracy: 0.8657INFO:tensorflow:Assets written to: model-004.model\\assets\n",
      "31/31 [==============================] - 4s 132ms/step - loss: 0.3322 - accuracy: 0.8657 - val_loss: 0.2249 - val_accuracy: 0.9153\n",
      "Epoch 5/20\n",
      "31/31 [==============================] - ETA: 0s - loss: 0.2513 - accuracy: 0.9061 ETA: 0s - loss: 0INFO:tensorflow:Assets written to: model-005.model\\assets\n",
      "31/31 [==============================] - 4s 126ms/step - loss: 0.2513 - accuracy: 0.9061 - val_loss: 0.2064 - val_accuracy: 0.9435\n",
      "Epoch 6/20\n",
      "31/31 [==============================] - ETA: 0s - loss: 0.2062 - accuracy: 0.9303INFO:tensorflow:Assets written to: model-006.model\\assets\n",
      "31/31 [==============================] - 4s 125ms/step - loss: 0.2062 - accuracy: 0.9303 - val_loss: 0.1645 - val_accuracy: 0.9516\n",
      "Epoch 7/20\n",
      "31/31 [==============================] - 2s 63ms/step - loss: 0.1957 - accuracy: 0.9192 - val_loss: 0.2029 - val_accuracy: 0.9274\n",
      "Epoch 8/20\n",
      "31/31 [==============================] - ETA: 0s - loss: 0.1475 - accuracy: 0.9485INFO:tensorflow:Assets written to: model-008.model\\assets\n",
      "31/31 [==============================] - 9s 275ms/step - loss: 0.1475 - accuracy: 0.9485 - val_loss: 0.1421 - val_accuracy: 0.9516\n",
      "Epoch 9/20\n",
      "31/31 [==============================] - ETA: 0s - loss: 0.1092 - accuracy: 0.9697INFO:tensorflow:Assets written to: model-009.model\\assets\n",
      "31/31 [==============================] - 4s 128ms/step - loss: 0.1092 - accuracy: 0.9697 - val_loss: 0.1333 - val_accuracy: 0.9516\n",
      "Epoch 10/20\n",
      "31/31 [==============================] - ETA: 0s - loss: 0.0986 - accuracy: 0.9636INFO:tensorflow:Assets written to: model-010.model\\assets\n",
      "31/31 [==============================] - 4s 124ms/step - loss: 0.0986 - accuracy: 0.9636 - val_loss: 0.1136 - val_accuracy: 0.9556\n",
      "Epoch 11/20\n",
      "31/31 [==============================] - ETA: 0s - loss: 0.0775 - accuracy: 0.9737INFO:tensorflow:Assets written to: model-011.model\\assets\n",
      "31/31 [==============================] - 4s 124ms/step - loss: 0.0775 - accuracy: 0.9737 - val_loss: 0.1125 - val_accuracy: 0.9516\n",
      "Epoch 12/20\n",
      "31/31 [==============================] - ETA: 0s - loss: 0.0533 - accuracy: 0.9828INFO:tensorflow:Assets written to: model-012.model\\assets\n",
      "31/31 [==============================] - 4s 128ms/step - loss: 0.0533 - accuracy: 0.9828 - val_loss: 0.0769 - val_accuracy: 0.9637\n",
      "Epoch 13/20\n",
      "31/31 [==============================] - ETA: 0s - loss: 0.0397 - accuracy: 0.9859INFO:tensorflow:Assets written to: model-013.model\\assets\n",
      "31/31 [==============================] - 8s 274ms/step - loss: 0.0397 - accuracy: 0.9859 - val_loss: 0.0650 - val_accuracy: 0.9718\n",
      "Epoch 14/20\n",
      "31/31 [==============================] - 2s 64ms/step - loss: 0.0557 - accuracy: 0.9798 - val_loss: 0.1678 - val_accuracy: 0.9234\n",
      "Epoch 15/20\n",
      "31/31 [==============================] - 2s 63ms/step - loss: 0.0728 - accuracy: 0.9717 - val_loss: 0.1364 - val_accuracy: 0.9597\n",
      "Epoch 16/20\n",
      "31/31 [==============================] - 2s 63ms/step - loss: 0.0524 - accuracy: 0.9768 - val_loss: 0.0766 - val_accuracy: 0.9758\n",
      "Epoch 17/20\n",
      "31/31 [==============================] - 2s 64ms/step - loss: 0.0300 - accuracy: 0.9879 - val_loss: 0.0686 - val_accuracy: 0.9718\n",
      "Epoch 18/20\n",
      "31/31 [==============================] - 2s 63ms/step - loss: 0.0368 - accuracy: 0.9869 - val_loss: 0.0764 - val_accuracy: 0.9718\n",
      "Epoch 19/20\n",
      "31/31 [==============================] - 2s 63ms/step - loss: 0.0360 - accuracy: 0.9859 - val_loss: 0.1053 - val_accuracy: 0.9556\n",
      "Epoch 20/20\n",
      "31/31 [==============================] - 2s 63ms/step - loss: 0.0384 - accuracy: 0.9859 - val_loss: 0.1379 - val_accuracy: 0.9597\n"
     ]
    }
   ],
   "source": [
    "checkpoint = ModelCheckpoint('model-{epoch:03d}.model',monitor='val_loss',verbose=0,save_best_only=True,mode='auto')\n",
    "history=model.fit(train_data,train_target,epochs=20,callbacks=[checkpoint],validation_split=0.2)"
   ]
  },
  {
   "cell_type": "code",
   "execution_count": 6,
   "metadata": {},
   "outputs": [
    {
     "data": {
      "image/png": "[encoded data removed]",
      "text/plain": [
       "<Figure size 432x288 with 1 Axes>"
      ]
     },
     "metadata": {
      "needs_background": "light"
     },
     "output_type": "display_data"
    }
   ],
   "source": [
    "from matplotlib import pyplot as plt\n",
    "\n",
    "plt.plot(history.history['loss'],'r',label='training loss')\n",
    "plt.plot(history.history['val_loss'],label='validation loss')\n",
    "plt.xlabel('# epochs')\n",
    "plt.ylabel('loss')\n",
    "plt.legend()\n",
    "plt.show()"
   ]
  },
  {
   "cell_type": "code",
   "execution_count": 7,
   "metadata": {},
   "outputs": [
    {
     "data": {
      "image/png": "[encoded data removed]",
      "text/plain": [
       "<Figure size 432x288 with 1 Axes>"
      ]
     },
     "metadata": {
      "needs_background": "light"
     },
     "output_type": "display_data"
    }
   ],
   "source": [
    "plt.plot(history.history['accuracy'],'r',label='training accuracy')\n",
    "plt.plot(history.history['val_accuracy'],label='validation accuracy')\n",
    "plt.xlabel('# epochs')\n",
    "plt.ylabel('loss')\n",
    "plt.legend()\n",
    "plt.show()"
   ]
  },
  {
   "cell_type": "code",
   "execution_count": 8,
   "metadata": {},
   "outputs": [
    {
     "name": "stdout",
     "output_type": "stream",
     "text": [
      "5/5 [==============================] - 0s 33ms/step - loss: 0.1746 - accuracy: 0.9420\n",
      "[0.17459096014499664, 0.9420289993286133]\n"
     ]
    }
   ],
   "source": [
    "print(model.evaluate(test_data,test_target))"
   ]
  }
 ],
 "metadata": {
  "kernelspec": {
   "display_name": "python 3.8 (tensorflow)",
   "language": "python",
   "name": "tfgpu"
  },
  "language_info": {
   "codemirror_mode": {
    "name": "ipython",
    "version": 3
   },
   "file_extension": ".py",
   "mimetype": "text/x-python",
   "name": "python",
   "nbconvert_exporter": "python",
   "pygments_lexer": "ipython3",
   "version": "3.8.10"
  }
 },
 "nbformat": 4,
 "nbformat_minor": 4
}
